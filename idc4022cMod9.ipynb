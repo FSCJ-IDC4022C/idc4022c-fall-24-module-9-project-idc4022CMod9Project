{
  "cells": [
    {
      "cell_type": "markdown",
      "source": [
        "# IDC4022C Module 9"
      ],
      "metadata": {
        "id": "ucivQO4wNqFW"
      }
    },
    {
      "cell_type": "code",
      "source": [
        "import pandas as pd"
      ],
      "metadata": {
        "id": "Q0OuYV3xNpVW"
      },
      "execution_count": null,
      "outputs": []
    },
    {
      "cell_type": "code",
      "execution_count": null,
      "metadata": {
        "collapsed": true,
        "id": "2yOYpOrXO8h1"
      },
      "outputs": [],
      "source": [
        "# original articles files used UTF-8, modified this to\n",
        "# ISO-8859-1 to prevent line termination errors.\n",
        "# Filtered data locally to reencode, then\n",
        "# had to add low_memory=False to avoid dtype warn,\n",
        "# this allows Pandas to read more of the file to\n",
        "# infer types\n",
        "df = pd.read_csv('/content/idc4022cMod9Data.csv',index_col=0,\n",
        "                 encoding='ISO-8859-1',low_memory=False)"
      ]
    },
    {
      "cell_type": "code",
      "execution_count": null,
      "metadata": {
        "collapsed": true,
        "id": "RAsUvYMTO8h1"
      },
      "outputs": [],
      "source": [
        "df.head()"
      ]
    },
    {
      "cell_type": "code",
      "execution_count": null,
      "metadata": {
        "collapsed": true,
        "id": "Wafekm-3O8h1"
      },
      "outputs": [],
      "source": [
        "import matplotlib.pyplot as plt\n",
        "plt.figure(figsize=(10,7))\n",
        "df.publication.value_counts().plot(kind='bar')"
      ]
    },
    {
      "cell_type": "code",
      "execution_count": null,
      "metadata": {
        "collapsed": true,
        "id": "gtAUadlZO8h2"
      },
      "outputs": [],
      "source": [
        "import spacy\n",
        "from spacy import displacy\n",
        "import en_core_web_sm\n",
        "nlp = en_core_web_sm.load()"
      ]
    },
    {
      "cell_type": "code",
      "execution_count": null,
      "metadata": {
        "collapsed": true,
        "id": "HrRgR1lqO8h2"
      },
      "outputs": [],
      "source": [
        "# this step takes a minute\n",
        "doc_pre = df['content']\n",
        "# Convert all values in 'content' to strings\n",
        "doc_pre = df['content'].astype(str)\n",
        "doc_pre.info()\n",
        "doc = [nlp(text) for text in doc_pre]"
      ]
    },
    {
      "cell_type": "code",
      "source": [
        "# this step also takes a minute\n",
        "concatenated_text = \" \".join(doc_pre)\n",
        "nlp.max_length = 2500000\n",
        "single_doc = nlp(concatenated_text)\n",
        "#for single_doc in doc:\n",
        "#    print(single_doc.ents)  # This will print the entities for each document"
      ],
      "metadata": {
        "id": "EKwDL-koEQqU"
      },
      "execution_count": null,
      "outputs": []
    },
    {
      "cell_type": "code",
      "execution_count": null,
      "metadata": {
        "collapsed": true,
        "id": "4-zrQnmCO8h2",
        "scrolled": false
      },
      "outputs": [],
      "source": [
        "displacy.render(single_doc,style='ent',jupyter=True)\n",
        "#for single_doc in doc:\n",
        "#    displacy.render(single_doc, style='ent', jupyter=True)"
      ]
    },
    {
      "cell_type": "code",
      "execution_count": null,
      "metadata": {
        "collapsed": true,
        "id": "zdjxvb3KO8h2"
      },
      "outputs": [],
      "source": [
        "nlp = spacy.load(\"en_core_web_sm\",\n",
        "                 disable=['parser',\n",
        "                          'tagger',\n",
        "                          'textcat'])"
      ]
    },
    {
      "cell_type": "code",
      "source": [
        "from tqdm.notebook import tqdm"
      ],
      "metadata": {
        "id": "G7fYzgbKnzsk"
      },
      "execution_count": null,
      "outputs": []
    },
    {
      "cell_type": "code",
      "execution_count": null,
      "metadata": {
        "collapsed": true,
        "id": "himO9eilO8h2"
      },
      "outputs": [],
      "source": [
        "print(spacy.__version__)\n",
        "\n",
        "import warnings\n",
        "\n",
        "# [DS] Suppress the SpaCy UserWarning W108\n",
        "# This specifies the pipeline includes components that assign POS tags,\n",
        "# which are essential for accurate lemmatization. There may be a deprecated\n",
        "# component in the code.\n",
        "\n",
        "warnings.filterwarnings(\"ignore\", category=UserWarning, message=r'.*\\[W108\\].*')\n",
        "\n",
        "frames = []\n",
        "# textbook has us loop through 1000, but we only have 495, use what we have\n",
        "# refer to the text for explainations for each #n comment\n",
        "for i in tqdm(range(1,495)):\n",
        "    doc = df.loc[i,'content']                              #1\n",
        "    text_id = df.loc[i,'id']                               #2\n",
        "    doc = nlp(doc)                                         #3\n",
        "    ents = [(e.text, e.start_char, e.end_char, e.label_)   #4\n",
        "            for e in doc.ents\n",
        "            if len(e.text.strip(' -—')) > 0]\n",
        "    frame = pd.DataFrame(ents)                             #5\n",
        "    frame['id'] = text_id                                  #6\n",
        "    frames.append(frame)                                   #7\n",
        "\n",
        "npf = pd.concat(frames)                                    #8\n",
        "\n",
        "npf.columns = ['Text','Start','Stop','Type','id']          #9"
      ]
    },
    {
      "cell_type": "code",
      "execution_count": null,
      "metadata": {
        "collapsed": true,
        "id": "Qgol7rixO8h3"
      },
      "outputs": [],
      "source": [
        "npf = pd.concat(frames)"
      ]
    },
    {
      "cell_type": "code",
      "execution_count": null,
      "metadata": {
        "collapsed": true,
        "id": "WErB1bmBO8h3"
      },
      "outputs": [],
      "source": [
        "print('length is ', len(npf))\n",
        "print('first 5:')\n",
        "print(npf.head())\n",
        "print('last 5:')\n",
        "print(npf.tail())"
      ]
    },
    {
      "cell_type": "code",
      "execution_count": null,
      "metadata": {
        "collapsed": true,
        "id": "DJ1kgR8KO8h3"
      },
      "outputs": [],
      "source": [
        "npf.columns = ['Text','Start','Stop','Type','id']"
      ]
    },
    {
      "cell_type": "code",
      "execution_count": null,
      "metadata": {
        "collapsed": true,
        "id": "vSfp6iIMO8h3"
      },
      "outputs": [],
      "source": [
        "plt.figure(figsize=(10,7))\n",
        "npf.Type.value_counts().plot(kind='bar')"
      ]
    },
    {
      "cell_type": "code",
      "execution_count": null,
      "metadata": {
        "collapsed": true,
        "id": "nCUq2P0nO8h3"
      },
      "outputs": [],
      "source": [
        "orgs = npf[npf.Type == 'ORG']"
      ]
    },
    {
      "cell_type": "code",
      "execution_count": null,
      "metadata": {
        "collapsed": true,
        "id": "B8vDHveOO8h3"
      },
      "outputs": [],
      "source": [
        "plt.figure(figsize=(10,7))\n",
        "orgs.Text.value_counts()[:15].plot(kind='bar')"
      ]
    }
  ],
  "metadata": {
    "colab": {
      "provenance": [],
      "gpuType": "T4"
    },
    "kernelspec": {
      "display_name": "Python 3",
      "name": "python3"
    },
    "language_info": {
      "codemirror_mode": {
        "name": "ipython",
        "version": 3
      },
      "file_extension": ".py",
      "mimetype": "text/x-python",
      "name": "python",
      "nbconvert_exporter": "python",
      "pygments_lexer": "ipython3",
      "version": "3.6.5"
    },
    "accelerator": "GPU"
  },
  "nbformat": 4,
  "nbformat_minor": 0
}